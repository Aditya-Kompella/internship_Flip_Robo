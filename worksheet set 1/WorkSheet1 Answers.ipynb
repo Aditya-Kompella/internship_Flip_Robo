{
 "cells": [
  {
   "cell_type": "code",
   "execution_count": 11,
   "metadata": {},
   "outputs": [
    {
     "name": "stdout",
     "output_type": "stream",
     "text": [
      "Enter a number to find the factorial 5\n",
      "The factorial of 5 is 120\n"
     ]
    }
   ],
   "source": [
    "# Write a python program to find the factorial of a number.\n",
    "num = int(input(\"Enter a number to find the factorial \"))\n",
    "factorial = 1    \n",
    "if num < 0:    \n",
    "    print(\" Factorial does not exist for negative numbers\")    \n",
    "elif num == 0:    \n",
    "    print(\"The factorial of 0 is 1\")\n",
    "else:    \n",
    "    for i in range(1,num + 1):\n",
    "        factorial = factorial*i    \n",
    "    print(\"The factorial of\",num,\"is\",factorial)"
   ]
  },
  {
   "cell_type": "code",
   "execution_count": 7,
   "metadata": {},
   "outputs": [
    {
     "name": "stdout",
     "output_type": "stream",
     "text": [
      "Enter any number: 53\n",
      "53 is a prime number\n"
     ]
    }
   ],
   "source": [
    "# Write a python program to find whether a number is prime or composite.\n",
    "number = int(input(\"Enter any number: \"))\n",
    "if number > 1:\n",
    "    for i in range(2, number):\n",
    "        if (number % i) == 0:\n",
    "            print(number, \"is not a prime number\")\n",
    "            break\n",
    "    else:\n",
    "        print(number, \"is a prime number\")\n",
    "else:\n",
    "    print(number, \"is not a prime number\")"
   ]
  },
  {
   "cell_type": "code",
   "execution_count": 10,
   "metadata": {},
   "outputs": [
    {
     "name": "stdout",
     "output_type": "stream",
     "text": [
      "enter the string: wew\n",
      "True\n"
     ]
    }
   ],
   "source": [
    "# Write a python program to check whether a given string is palindrome or not.\n",
    "def isPalindrome(s):\n",
    "    return s == s[::-1]\n",
    "s = input(\"enter the string: \")\n",
    "ans = isPalindrome(s)\n",
    "print(ans)"
   ]
  },
  {
   "cell_type": "code",
   "execution_count": 12,
   "metadata": {},
   "outputs": [
    {
     "name": "stdout",
     "output_type": "stream",
     "text": [
      "please enter 1st number: 5\n",
      "please enter second number: 4\n",
      "please enter 1 if it is hypotenuse 2 if it is side: 1\n",
      "3.0\n"
     ]
    }
   ],
   "source": [
    "# Write a Python program to get the third side of right-angled triangle from two given sides.\n",
    "import math\n",
    "x1 = int(input('please enter 1st number: '))\n",
    "x2 = int(input('please enter second number: '))\n",
    "side = int(input('please enter 1 if it is hypotenuse 2 if it is side: '))\n",
    "if side == 1 :\n",
    "    var = x1**2 - x2**2\n",
    "    ans = math.sqrt(var)\n",
    "elif side == 2 :\n",
    "    var = x1**2 + x2**2\n",
    "    ans = math.sqrt(var)\n",
    "else:\n",
    "    ans = 'please enter 1 or 2'\n",
    "print(ans)"
   ]
  },
  {
   "cell_type": "code",
   "execution_count": 15,
   "metadata": {},
   "outputs": [
    {
     "name": "stdout",
     "output_type": "stream",
     "text": [
      "enter the string: qwertyytrewq\n",
      "Count of all characters in qwertyytrewq is :\n",
      " {'q': 2, 'w': 2, 'e': 2, 'r': 2, 't': 2, 'y': 2}\n"
     ]
    }
   ],
   "source": [
    "test_str = input('enter the string: ')\n",
    "all_freq = {}\n",
    "for i in test_str:\n",
    "    if i in all_freq:\n",
    "        all_freq[i] += 1\n",
    "    else:\n",
    "        all_freq[i] = 1\n",
    "print (\"Count of all characters in \" + test_str + \" is :\\n \"\n",
    "                                        +  str(all_freq))"
   ]
  },
  {
   "cell_type": "code",
   "execution_count": null,
   "metadata": {},
   "outputs": [],
   "source": []
  }
 ],
 "metadata": {
  "kernelspec": {
   "display_name": "Python 3",
   "language": "python",
   "name": "python3"
  }
 },
 "nbformat": 4,
 "nbformat_minor": 4
}
